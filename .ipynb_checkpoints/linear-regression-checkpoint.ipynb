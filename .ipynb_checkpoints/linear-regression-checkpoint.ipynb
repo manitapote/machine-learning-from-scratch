{
 "cells": [
  {
   "cell_type": "markdown",
   "metadata": {},
   "source": [
    "Two  data  sets  are  posted  on  Canvas.   The  first  has  ann×d=  1000×50  data  matrix  (X)“pred1.dat”  with  a  1000×1  response  vector  (y)  in  “resp1.dat.”  The  second  has  a  1000×500data  matrix  “pred2.dat”  with  a  response  vector  in  “resp2.dat.”  These  data  sets  were  generatedaccording to the standard linear regression model: $y=Xw+ \\rm{e}$,  <br />where X is a $n×d$ matrix of predictor variables, y is a $n$ −dimensional vector of response variables, and $ \\rm{e} \\sim \\textit{N}(0, \\sigma^2I) $ is ann−dimensional vector of model errors. <br/><br />\n",
    "(a) For each data set, use the first half of the data (observations $i= 1,...,n/2$, all $\\textit{d}$ predictors) to estimate values for $w,  \\hat{w}$. <br />\n",
    "(b)  For  each  data  set,  use  your  estimate  ofwon  the  2nd  half  of  the  data  set  (n/2 + 1,...,n), to get your estimated response variables, $\\hat{y}$.  Compute and report your total squared error: <br /><br />\n",
    "$ SSE = \\sum \\limits_{i = n/2 +1}^{n} (\\hat{y} - y_{i})^2 $ \n",
    "<br />\n",
    "Be sure to include the results and your code in the solutions report."
   ]
  },
  {
   "cell_type": "markdown",
   "metadata": {},
   "source": [
    "### General linear regression equation <br />\n",
    "$ Y = XW + \\rm{e} $"
   ]
  },
  {
   "cell_type": "markdown",
   "metadata": {},
   "source": [
    "$ \\hat{Y} = \\sum \\limits_{j=0}^{50} x_{j} \\hat{w}_j +  \\rm{e} $"
   ]
  },
  {
   "cell_type": "markdown",
   "metadata": {},
   "source": [
    "$ \\hat{W} = (X^{T} X )^{-1} X^{T}Y$"
   ]
  },
  {
   "cell_type": "markdown",
   "metadata": {},
   "source": [
    "#### Normal Distribution Assumption for error\n",
    "$ \\rm{e} \\sim  \\textit{N}(0, \\sigma^2I)$"
   ]
  },
  {
   "cell_type": "markdown",
   "metadata": {},
   "source": [
    "#### Sum of Squared errors <br />\n",
    "$SSE = \\sum \\limits_{i = n/2 +1}^{n} (\\hat{y} - y_{i})^2 $"
   ]
  },
  {
   "cell_type": "code",
   "execution_count": 1,
   "metadata": {},
   "outputs": [],
   "source": [
    "import numpy as np"
   ]
  },
  {
   "cell_type": "code",
   "execution_count": 2,
   "metadata": {},
   "outputs": [],
   "source": [
    "#Splits data into train and test\n",
    "def split_data(X, Y):\n",
    "    print('Splitting the data into test and train.... \\n ')\n",
    "    splits = np.split(X, 2)\n",
    "    X_train = splits[0]\n",
    "    X_test = splits[1]\n",
    "    splits_response = np.split(Y, 2)\n",
    "    Y_train = splits_response[0]\n",
    "    Y_test = splits_response[1]\n",
    "\n",
    "    print('Train predictor data size', X_train.shape)\n",
    "    print('Test predictor data size', X_test.shape)\n",
    "    print('Train response data size', Y_train.shape)\n",
    "    print('Test response data size',Y_test.shape, '\\n' )\n",
    "    \n",
    "    print('Inserting 1 in each predictor for Wo ... \\n')\n",
    "    \n",
    "    X_train = np.insert(X_train, 0, 1, axis = 1)\n",
    "    X_test = np.insert(X_test, 0, 1, axis = 1)\n",
    "    \n",
    "    return X_train, Y_train, X_test, Y_test\n",
    "\n",
    "\n",
    "\n",
    "#Estimates the parameter of linear regression based \n",
    "#on Least Square method\n",
    "def find_parameters(X, Y):\n",
    "    print('Finding Paramters ..... \\n ')\n",
    "    X_T = X_train.transpose()\n",
    "    XTX = np.matmul(X_T, X_train)\n",
    "    XTX_inverse = np.linalg.inv(XTX)\n",
    "    \n",
    "    return np.dot(np.dot(XTX_inverse, X_T), Y_train)\n",
    "\n",
    "\n",
    "#Calculates the squared errors\n",
    "def find_squared_error(Y_test, X_test, w):\n",
    "    print('Finding squared error on test set \\n')\n",
    "    error = np.sum(np.square(np.subtract(Y_test, np.dot(X_test, w))))\n",
    "    print('SSE is ', error)"
   ]
  },
  {
   "cell_type": "markdown",
   "metadata": {},
   "source": [
    "For first data set. <br />"
   ]
  },
  {
   "cell_type": "code",
   "execution_count": 3,
   "metadata": {},
   "outputs": [
    {
     "name": "stdout",
     "output_type": "stream",
     "text": [
      "Predictors data size (1000, 50)\n",
      "Response data size (1000,) \n",
      "\n",
      "Splitting the data into test and train.... \n",
      " \n",
      "Train predictor data size (500, 50)\n",
      "Test predictor data size (500, 50)\n",
      "Train response data size (500,)\n",
      "Test response data size (500,) \n",
      "\n",
      "Inserting 1 in each predictor for Wo ... \n",
      "\n",
      "Finding Paramters ..... \n",
      " \n",
      "Finding squared error on test set \n",
      "\n",
      "SSE is  5.715487242136838\n"
     ]
    }
   ],
   "source": [
    "X = np.loadtxt( 'pred1.dat')\n",
    "Y = np.loadtxt('resp1.dat')\n",
    "print('Predictors data size', X.shape)\n",
    "print('Response data size', Y.shape, '\\n')\n",
    "\n",
    "X_train, Y_train, X_test, Y_test = split_data(X,Y)\n",
    "w = find_parameters(X_train, Y_train)\n",
    "\n",
    "find_squared_error(Y_test, X_test, w)"
   ]
  },
  {
   "cell_type": "markdown",
   "metadata": {},
   "source": [
    "For Second dataset."
   ]
  },
  {
   "cell_type": "code",
   "execution_count": 4,
   "metadata": {},
   "outputs": [
    {
     "name": "stdout",
     "output_type": "stream",
     "text": [
      "Predictors data size (1000, 500)\n",
      "Response data size (1000,) \n",
      "\n",
      "Splitting the data into test and train.... \n",
      " \n",
      "Train predictor data size (500, 500)\n",
      "Test predictor data size (500, 500)\n",
      "Train response data size (500,)\n",
      "Test response data size (500,) \n",
      "\n",
      "Inserting 1 in each predictor for Wo ... \n",
      "\n",
      "Finding Paramters ..... \n",
      " \n",
      "Finding squared error on test set \n",
      "\n",
      "SSE is  3687299.64552575\n"
     ]
    }
   ],
   "source": [
    "X = np.loadtxt( 'pred2.dat')\n",
    "Y = np.loadtxt('resp2.dat')\n",
    "print('Predictors data size', X.shape)\n",
    "print('Response data size', Y.shape, '\\n')\n",
    "\n",
    "X_train, Y_train, X_test, Y_test = split_data(X,Y)\n",
    "w = find_parameters(X_train, Y_train)\n",
    "\n",
    "find_squared_error(Y_test, X_test, w)"
   ]
  },
  {
   "cell_type": "markdown",
   "metadata": {},
   "source": [
    "Looking at the SSE for two data sets, the dataset with more predictor variable has more SSE."
   ]
  },
  {
   "cell_type": "code",
   "execution_count": null,
   "metadata": {},
   "outputs": [],
   "source": []
  }
 ],
 "metadata": {
  "kernelspec": {
   "display_name": "Python 3",
   "language": "python",
   "name": "python3"
  },
  "language_info": {
   "codemirror_mode": {
    "name": "ipython",
    "version": 3
   },
   "file_extension": ".py",
   "mimetype": "text/x-python",
   "name": "python",
   "nbconvert_exporter": "python",
   "pygments_lexer": "ipython3",
   "version": "3.7.7"
  }
 },
 "nbformat": 4,
 "nbformat_minor": 4
}
